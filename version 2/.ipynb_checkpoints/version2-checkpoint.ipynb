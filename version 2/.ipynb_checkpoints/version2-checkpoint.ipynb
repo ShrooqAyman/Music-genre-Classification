{
 "cells": [
  {
   "cell_type": "markdown",
   "metadata": {
    "id": "zp3xWk30OQF_"
   },
   "source": [
    "## In this notebook I try CatBoostClassifier Model\n",
    "\n",
    "\n"
   ]
  },
  {
   "cell_type": "markdown",
   "metadata": {
    "id": "t_kFpdHJRUBa"
   },
   "source": [
    "### Import all needed Libraries"
   ]
  },
  {
   "cell_type": "code",
   "execution_count": 9,
   "metadata": {
    "id": "qwHQv75ykPzk"
   },
   "outputs": [],
   "source": [
    "import pandas as pd\n",
    "import numpy as np\n",
    "import matplotlib.pyplot as plt\n",
    "import seaborn as sns\n",
    "from sklearn.model_selection import train_test_split\n",
    "from catboost import CatBoostClassifier\n",
    "from sklearn.metrics import log_loss\n",
    "from sklearn.model_selection import GridSearchCV\n",
    "from sklearn import metrics"
   ]
  },
  {
   "cell_type": "markdown",
   "metadata": {
    "id": "PeVc58PqP6Nf"
   },
   "source": [
    "<a></a>\n",
    "##  Get the Data"
   ]
  },
  {
   "cell_type": "code",
   "execution_count": 10,
   "metadata": {},
   "outputs": [],
   "source": [
    "train = pd.read_csv('train_cleaned.csv')\n",
    "test = pd.read_csv('test_cleaned.csv')\n",
    "sample = pd.read_csv('sample_submission (2).csv')"
   ]
  },
  {
   "cell_type": "markdown",
   "metadata": {},
   "source": [
    "## Feature Selection"
   ]
  },
  {
   "cell_type": "code",
   "execution_count": 11,
   "metadata": {},
   "outputs": [],
   "source": [
    "cat_cols = ['Artist Name', 'Track Name']"
   ]
  },
  {
   "cell_type": "code",
   "execution_count": 12,
   "metadata": {},
   "outputs": [],
   "source": [
    "cont_cols =[\n",
    " 'Popularity',\n",
    " 'danceability',\n",
    " 'energy',\n",
    " 'key',\n",
    " 'loudness',\n",
    " 'mode',\n",
    " 'speechiness',\n",
    " 'acousticness',\n",
    " 'instrumentalness',\n",
    " 'liveness',\n",
    " 'valence',\n",
    " 'tempo',\n",
    " 'duration_in min/ms',\n",
    " 'time_signature']"
   ]
  },
  {
   "cell_type": "code",
   "execution_count": 13,
   "metadata": {},
   "outputs": [],
   "source": [
    "X = train[cat_cols+cont_cols]\n",
    "y = train.Class\n",
    "test2= test[cat_cols+cont_cols]"
   ]
  },
  {
   "cell_type": "code",
   "execution_count": 14,
   "metadata": {},
   "outputs": [],
   "source": [
    "X_train, X_test, y_train, y_test = train_test_split(X, y, test_size=0.1)"
   ]
  },
  {
   "cell_type": "markdown",
   "metadata": {},
   "source": [
    "## Train Model"
   ]
  },
  {
   "cell_type": "code",
   "execution_count": 15,
   "metadata": {},
   "outputs": [
    {
     "name": "stdout",
     "output_type": "stream",
     "text": [
      "Learning rate set to 0.04716\n",
      "0:\tlearn: 2.3064862\ttest: 2.3097152\tbest: 2.3097152 (0)\ttotal: 841ms\tremaining: 2h 20m 13s\n",
      "500:\tlearn: 0.8024053\ttest: 0.8808473\tbest: 0.8808473 (500)\ttotal: 8m 1s\tremaining: 2h 32m 15s\n",
      "Stopped by overfitting detector  (30 iterations wait)\n",
      "\n",
      "bestTest = 0.870795043\n",
      "bestIteration = 746\n",
      "\n",
      "Shrink model to first 747 iterations.\n",
      "0.8707950430050257\n"
     ]
    }
   ],
   "source": [
    "arr = []\n",
    "\n",
    "model = CatBoostClassifier(n_estimators=10000, random_state=10, eval_metric= 'MultiClass', cat_features=cat_cols)\n",
    "model.fit(X_train, y_train,eval_set=[(X_test, y_test)], early_stopping_rounds=30, verbose=500)\n",
    "\n",
    "print(log_loss(y_test, model.predict_proba(X_test)))\n",
    "arr.append(log_loss(y_test, model.predict_proba(X_test)))\n"
   ]
  },
  {
   "cell_type": "code",
   "execution_count": 16,
   "metadata": {},
   "outputs": [],
   "source": [
    "y_pred = model.predict_proba(X_test)"
   ]
  },
  {
   "cell_type": "code",
   "execution_count": 17,
   "metadata": {},
   "outputs": [],
   "source": [
    "out_y_pred = pd.DataFrame(y_pred)\n",
    "out_y_pred_vlaue = out_y_pred.idxmax(axis=1)"
   ]
  },
  {
   "cell_type": "code",
   "execution_count": 18,
   "metadata": {},
   "outputs": [
    {
     "data": {
      "text/plain": [
       "(1440,)"
      ]
     },
     "execution_count": 18,
     "metadata": {},
     "output_type": "execute_result"
    }
   ],
   "source": [
    "out_y_pred_vlaue.shape"
   ]
  },
  {
   "cell_type": "code",
   "execution_count": 19,
   "metadata": {},
   "outputs": [],
   "source": [
    "\n",
    "confusion_matrix = metrics.confusion_matrix(y_test, out_y_pred_vlaue)"
   ]
  },
  {
   "cell_type": "code",
   "execution_count": 20,
   "metadata": {},
   "outputs": [
    {
     "data": {
      "text/plain": [
       "array([[ 33,   0,   0,   1,   3,   0,   0,   2,   0,   1,   2],\n",
       "       [  0,  36,   5,   0,   0,   1,  31,   0,   4,   4,  34],\n",
       "       [  0,   1,  70,   0,   0,   0,   8,   0,   1,  10,  24],\n",
       "       [  3,   0,   0,  22,   1,   1,   0,   0,   0,   1,   0],\n",
       "       [  4,   0,   0,   0,  25,   0,   0,   0,   0,   1,   0],\n",
       "       [  0,   0,   2,   0,   0,  78,   2,   0,   0,   9,   1],\n",
       "       [  0,   2,   8,   0,   0,   4, 124,   0,   2,   9,  61],\n",
       "       [  0,   0,   0,   0,   0,   0,   0,  45,   0,   0,   0],\n",
       "       [  0,   1,   1,   0,   0,   0,   4,   0, 127,   1,  29],\n",
       "       [  0,   6,   5,   0,   1,   7,  20,   0,   4, 137,  24],\n",
       "       [  0,  10,  16,   0,   0,   3,  31,   0,  21,  11, 305]],\n",
       "      dtype=int64)"
      ]
     },
     "execution_count": 20,
     "metadata": {},
     "output_type": "execute_result"
    }
   ],
   "source": [
    "confusion_matrix"
   ]
  },
  {
   "cell_type": "markdown",
   "metadata": {},
   "source": [
    "## Prediction"
   ]
  },
  {
   "cell_type": "code",
   "execution_count": 21,
   "metadata": {},
   "outputs": [],
   "source": [
    "pred = model.predict_proba(test2)"
   ]
  },
  {
   "cell_type": "code",
   "execution_count": 22,
   "metadata": {},
   "outputs": [],
   "source": [
    "out = pd.DataFrame(pred)\n",
    "maxValues = out.idxmax(axis=1)"
   ]
  },
  {
   "cell_type": "code",
   "execution_count": 23,
   "metadata": {},
   "outputs": [],
   "source": [
    "sample['Class'] = maxValues\n",
    "sample.to_csv('catboost_out.csv', index=False)"
   ]
  },
  {
   "cell_type": "markdown",
   "metadata": {},
   "source": [
    "### After preprossing data and train different models we find that CatBoosting Classifier is the best algorithm to gain less Error ( score = 0.69)"
   ]
  },
  {
   "cell_type": "code",
   "execution_count": null,
   "metadata": {},
   "outputs": [],
   "source": []
  }
 ],
 "metadata": {
  "colab": {
   "collapsed_sections": [],
   "name": "preprocessing.ipynb",
   "provenance": []
  },
  "kernelspec": {
   "display_name": "Python 3",
   "language": "python",
   "name": "python3"
  },
  "language_info": {
   "codemirror_mode": {
    "name": "ipython",
    "version": 3
   },
   "file_extension": ".py",
   "mimetype": "text/x-python",
   "name": "python",
   "nbconvert_exporter": "python",
   "pygments_lexer": "ipython3",
   "version": "3.8.8"
  }
 },
 "nbformat": 4,
 "nbformat_minor": 1
}
