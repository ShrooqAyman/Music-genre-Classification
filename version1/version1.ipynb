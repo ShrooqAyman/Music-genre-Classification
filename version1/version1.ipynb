{
 "cells": [
  {
   "cell_type": "code",
   "execution_count": 2,
   "metadata": {
    "_cell_guid": "b1076dfc-b9ad-4769-8c92-a6c4dae69d19",
    "_uuid": "8f2839f25d086af736a60e9eeb907d3b93b6e0e5",
    "execution": {
     "iopub.execute_input": "2022-07-10T10:55:53.686400Z",
     "iopub.status.busy": "2022-07-10T10:55:53.685783Z",
     "iopub.status.idle": "2022-07-10T10:55:54.211801Z",
     "shell.execute_reply": "2022-07-10T10:55:54.210871Z",
     "shell.execute_reply.started": "2022-07-10T10:55:53.686307Z"
    }
   },
   "outputs": [],
   "source": [
    "import pandas as pd\n",
    "import numpy as np\n",
    "import matplotlib.pyplot as plt\n",
    "import seaborn as sns\n",
    "from sklearn.model_selection import train_test_split\n",
    "from sklearn.model_selection import cross_val_score\n",
    "from sklearn.pipeline import Pipeline\n",
    "from sklearn.svm import SVC\n",
    "from sklearn.preprocessing import MinMaxScaler\n",
    "from sklearn.model_selection import train_test_split\n",
    "from sklearn.model_selection import GridSearchCV\n",
    "from sklearn import preprocessing\n",
    "from sklearn.metrics import accuracy_score\n",
    "from sklearn.naive_bayes import GaussianNB\n",
    "from sklearn.linear_model import SGDClassifier, LogisticRegression\n",
    "from sklearn.neighbors import KNeighborsClassifier\n",
    "from sklearn.tree import DecisionTreeClassifier\n",
    "from sklearn.ensemble import RandomForestClassifier\n",
    "from sklearn.svm import SVC\n",
    "from sklearn.neural_network import MLPClassifier\n",
    "from xgboost import XGBClassifier, XGBRFClassifier\n",
    "from xgboost import plot_tree, plot_importance\n",
    "from sklearn.metrics import confusion_matrix, accuracy_score, roc_auc_score, roc_curve\n",
    "from sklearn import preprocessing\n",
    "from sklearn.model_selection import train_test_split\n",
    "from sklearn.feature_selection import RFE"
   ]
  },
  {
   "cell_type": "code",
   "execution_count": 3,
   "metadata": {
    "execution": {
     "iopub.execute_input": "2022-07-10T10:55:57.915533Z",
     "iopub.status.busy": "2022-07-10T10:55:57.915121Z",
     "iopub.status.idle": "2022-07-10T10:55:57.982622Z",
     "shell.execute_reply": "2022-07-10T10:55:57.981638Z",
     "shell.execute_reply.started": "2022-07-10T10:55:57.915501Z"
    }
   },
   "outputs": [],
   "source": [
    "train = pd.read_csv('train_cleaned.csv')\n",
    "test = pd.read_csv(\"test_cleaned.csv\")"
   ]
  },
  {
   "cell_type": "code",
   "execution_count": 4,
   "metadata": {},
   "outputs": [
    {
     "data": {
      "text/html": [
       "<div>\n",
       "<style scoped>\n",
       "    .dataframe tbody tr th:only-of-type {\n",
       "        vertical-align: middle;\n",
       "    }\n",
       "\n",
       "    .dataframe tbody tr th {\n",
       "        vertical-align: top;\n",
       "    }\n",
       "\n",
       "    .dataframe thead th {\n",
       "        text-align: right;\n",
       "    }\n",
       "</style>\n",
       "<table border=\"1\" class=\"dataframe\">\n",
       "  <thead>\n",
       "    <tr style=\"text-align: right;\">\n",
       "      <th></th>\n",
       "      <th>Artist Name</th>\n",
       "      <th>Popularity</th>\n",
       "      <th>danceability</th>\n",
       "      <th>energy</th>\n",
       "      <th>key</th>\n",
       "      <th>loudness</th>\n",
       "      <th>mode</th>\n",
       "      <th>speechiness</th>\n",
       "      <th>acousticness</th>\n",
       "      <th>instrumentalness</th>\n",
       "      <th>liveness</th>\n",
       "      <th>valence</th>\n",
       "      <th>tempo</th>\n",
       "      <th>duration_in min/ms</th>\n",
       "      <th>time_signature</th>\n",
       "      <th>Class</th>\n",
       "    </tr>\n",
       "  </thead>\n",
       "  <tbody>\n",
       "    <tr>\n",
       "      <th>0</th>\n",
       "      <td>4260</td>\n",
       "      <td>37.0</td>\n",
       "      <td>0.334</td>\n",
       "      <td>0.536</td>\n",
       "      <td>9.0</td>\n",
       "      <td>-6.649</td>\n",
       "      <td>0</td>\n",
       "      <td>0.0381</td>\n",
       "      <td>0.378000</td>\n",
       "      <td>0.00392</td>\n",
       "      <td>0.106</td>\n",
       "      <td>0.235</td>\n",
       "      <td>152.429</td>\n",
       "      <td>204947.0</td>\n",
       "      <td>4</td>\n",
       "      <td>9</td>\n",
       "    </tr>\n",
       "    <tr>\n",
       "      <th>1</th>\n",
       "      <td>6558</td>\n",
       "      <td>67.0</td>\n",
       "      <td>0.725</td>\n",
       "      <td>0.747</td>\n",
       "      <td>11.0</td>\n",
       "      <td>-5.545</td>\n",
       "      <td>1</td>\n",
       "      <td>0.0876</td>\n",
       "      <td>0.027200</td>\n",
       "      <td>0.04680</td>\n",
       "      <td>0.104</td>\n",
       "      <td>0.380</td>\n",
       "      <td>132.921</td>\n",
       "      <td>191956.0</td>\n",
       "      <td>4</td>\n",
       "      <td>6</td>\n",
       "    </tr>\n",
       "    <tr>\n",
       "      <th>2</th>\n",
       "      <td>5639</td>\n",
       "      <td>44.0</td>\n",
       "      <td>0.584</td>\n",
       "      <td>0.804</td>\n",
       "      <td>7.0</td>\n",
       "      <td>-6.094</td>\n",
       "      <td>1</td>\n",
       "      <td>0.0619</td>\n",
       "      <td>0.000968</td>\n",
       "      <td>0.63500</td>\n",
       "      <td>0.284</td>\n",
       "      <td>0.635</td>\n",
       "      <td>159.953</td>\n",
       "      <td>161037.0</td>\n",
       "      <td>4</td>\n",
       "      <td>10</td>\n",
       "    </tr>\n",
       "    <tr>\n",
       "      <th>3</th>\n",
       "      <td>1750</td>\n",
       "      <td>12.0</td>\n",
       "      <td>0.515</td>\n",
       "      <td>0.308</td>\n",
       "      <td>6.0</td>\n",
       "      <td>-14.711</td>\n",
       "      <td>1</td>\n",
       "      <td>0.0312</td>\n",
       "      <td>0.907000</td>\n",
       "      <td>0.02130</td>\n",
       "      <td>0.300</td>\n",
       "      <td>0.501</td>\n",
       "      <td>172.472</td>\n",
       "      <td>298093.0</td>\n",
       "      <td>3</td>\n",
       "      <td>2</td>\n",
       "    </tr>\n",
       "    <tr>\n",
       "      <th>4</th>\n",
       "      <td>1377</td>\n",
       "      <td>48.0</td>\n",
       "      <td>0.565</td>\n",
       "      <td>0.777</td>\n",
       "      <td>6.0</td>\n",
       "      <td>-5.096</td>\n",
       "      <td>0</td>\n",
       "      <td>0.2490</td>\n",
       "      <td>0.183000</td>\n",
       "      <td>0.00392</td>\n",
       "      <td>0.211</td>\n",
       "      <td>0.619</td>\n",
       "      <td>88.311</td>\n",
       "      <td>254145.0</td>\n",
       "      <td>4</td>\n",
       "      <td>5</td>\n",
       "    </tr>\n",
       "  </tbody>\n",
       "</table>\n",
       "</div>"
      ],
      "text/plain": [
       "   Artist Name  Popularity  danceability  energy   key  loudness  mode  \\\n",
       "0         4260        37.0         0.334   0.536   9.0    -6.649     0   \n",
       "1         6558        67.0         0.725   0.747  11.0    -5.545     1   \n",
       "2         5639        44.0         0.584   0.804   7.0    -6.094     1   \n",
       "3         1750        12.0         0.515   0.308   6.0   -14.711     1   \n",
       "4         1377        48.0         0.565   0.777   6.0    -5.096     0   \n",
       "\n",
       "   speechiness  acousticness  instrumentalness  liveness  valence    tempo  \\\n",
       "0       0.0381      0.378000           0.00392     0.106    0.235  152.429   \n",
       "1       0.0876      0.027200           0.04680     0.104    0.380  132.921   \n",
       "2       0.0619      0.000968           0.63500     0.284    0.635  159.953   \n",
       "3       0.0312      0.907000           0.02130     0.300    0.501  172.472   \n",
       "4       0.2490      0.183000           0.00392     0.211    0.619   88.311   \n",
       "\n",
       "   duration_in min/ms  time_signature  Class  \n",
       "0            204947.0               4      9  \n",
       "1            191956.0               4      6  \n",
       "2            161037.0               4     10  \n",
       "3            298093.0               3      2  \n",
       "4            254145.0               4      5  "
      ]
     },
     "execution_count": 4,
     "metadata": {},
     "output_type": "execute_result"
    }
   ],
   "source": [
    "train.head()"
   ]
  },
  {
   "cell_type": "code",
   "execution_count": 5,
   "metadata": {
    "execution": {
     "iopub.execute_input": "2022-07-10T10:56:33.961757Z",
     "iopub.status.busy": "2022-07-10T10:56:33.961065Z",
     "iopub.status.idle": "2022-07-10T10:56:33.970620Z",
     "shell.execute_reply": "2022-07-10T10:56:33.969577Z",
     "shell.execute_reply.started": "2022-07-10T10:56:33.961716Z"
    }
   },
   "outputs": [
    {
     "data": {
      "text/plain": [
       "Index(['Artist Name', 'Popularity', 'danceability', 'energy', 'key',\n",
       "       'loudness', 'mode', 'speechiness', 'acousticness', 'instrumentalness',\n",
       "       'liveness', 'valence', 'tempo', 'duration_in min/ms', 'time_signature',\n",
       "       'Class'],\n",
       "      dtype='object')"
      ]
     },
     "execution_count": 5,
     "metadata": {},
     "output_type": "execute_result"
    }
   ],
   "source": [
    "train.columns"
   ]
  },
  {
   "cell_type": "code",
   "execution_count": 6,
   "metadata": {},
   "outputs": [],
   "source": [
    "cat_cols = ['Artist Name']\n",
    "cont_cols =[\n",
    " 'Popularity',\n",
    " 'danceability',\n",
    " 'energy',\n",
    " 'key',\n",
    " 'loudness',\n",
    " 'mode',\n",
    " 'speechiness',\n",
    " 'acousticness',\n",
    " 'instrumentalness',\n",
    " 'liveness',\n",
    " 'valence',\n",
    " 'tempo',\n",
    " 'duration_in min/ms',\n",
    " 'time_signature']"
   ]
  },
  {
   "cell_type": "code",
   "execution_count": 7,
   "metadata": {},
   "outputs": [],
   "source": [
    "X = train[cat_cols+cont_cols]\n",
    "y = train.Class\n",
    "test2= test[cat_cols+cont_cols]"
   ]
  },
  {
   "cell_type": "code",
   "execution_count": 8,
   "metadata": {
    "execution": {
     "iopub.execute_input": "2022-07-10T10:56:44.722275Z",
     "iopub.status.busy": "2022-07-10T10:56:44.721668Z",
     "iopub.status.idle": "2022-07-10T10:56:44.729809Z",
     "shell.execute_reply": "2022-07-10T10:56:44.728955Z",
     "shell.execute_reply.started": "2022-07-10T10:56:44.722238Z"
    }
   },
   "outputs": [],
   "source": [
    "X_train, X_test, y_train, y_test = train_test_split(X, y, test_size=0.2, random_state=42)\n"
   ]
  },
  {
   "cell_type": "code",
   "execution_count": 9,
   "metadata": {
    "execution": {
     "iopub.execute_input": "2022-07-10T10:56:48.423566Z",
     "iopub.status.busy": "2022-07-10T10:56:48.423046Z",
     "iopub.status.idle": "2022-07-10T10:56:48.427933Z",
     "shell.execute_reply": "2022-07-10T10:56:48.427238Z",
     "shell.execute_reply.started": "2022-07-10T10:56:48.423537Z"
    }
   },
   "outputs": [],
   "source": [
    "def model_assess(model, title = \"Default\"):\n",
    "    model.fit(X_train, y_train)\n",
    "    preds = model.predict(X_test)\n",
    "    print('Accuracy', title, ':', round(accuracy_score(y_test, preds), 5), '\\n')"
   ]
  },
  {
   "cell_type": "code",
   "execution_count": 11,
   "metadata": {
    "execution": {
     "iopub.execute_input": "2022-07-10T10:56:52.316249Z",
     "iopub.status.busy": "2022-07-10T10:56:52.315255Z"
    }
   },
   "outputs": [
    {
     "name": "stdout",
     "output_type": "stream",
     "text": [
      "Accuracy Naive Bayes : 0.34479 \n",
      "\n",
      "Accuracy Stochastic Gradient Descent : 0.11007 \n",
      "\n",
      "Accuracy KNN : 0.28368 \n",
      "\n",
      "Accuracy Decission trees : 0.36806 \n",
      "\n",
      "Accuracy Support Vector Machine : 0.29688 \n",
      "\n",
      "Accuracy Random Forest : 0.53924 \n",
      "\n",
      "Accuracy Cross Gradient Booster : 0.52604 \n",
      "\n"
     ]
    }
   ],
   "source": [
    "nb = GaussianNB()\n",
    "model_assess(nb, \"Naive Bayes\")\n",
    "\n",
    "sgd = SGDClassifier(max_iter=5000, random_state=0)\n",
    "model_assess(sgd, \"Stochastic Gradient Descent\")\n",
    "\n",
    "knn = KNeighborsClassifier(n_neighbors=19)\n",
    "model_assess(knn, \"KNN\")\n",
    "\n",
    "tree = DecisionTreeClassifier()\n",
    "model_assess(tree, \"Decission trees\")\n",
    "\n",
    "\n",
    "\n",
    "svm = SVC(decision_function_shape=\"ovo\")\n",
    "model_assess(svm, \"Support Vector Machine\")\n",
    "\n",
    "rforest = RandomForestClassifier(n_estimators=1000, max_depth=10, random_state=0)\n",
    "model_assess(rforest, \"Random Forest\")\n",
    "\n",
    "xgb = XGBClassifier(n_estimators=1000, learning_rate=0.05)\n",
    "model_assess(xgb, \"Cross Gradient Booster\")\n",
    "\n"
   ]
  },
  {
   "cell_type": "code",
   "execution_count": null,
   "metadata": {},
   "outputs": [],
   "source": [
    "xgb = XGBClassifier(n_estimators=1000, learning_rate=0.05)\n",
    "xgb.fit(X_train, y_train)\n",
    "preds = xgb.predict(X_test)\n",
    "print('Accuracy', ':', round(accuracy_score(y_test, preds), 5), '\\n')\n",
    "confusion_matr = confusion_matrix(y_test, preds)"
   ]
  },
  {
   "cell_type": "code",
   "execution_count": null,
   "metadata": {},
   "outputs": [],
   "source": [
    "model = RandomForestClassifier(random_state = 42, n_estimators = 10000, verbose=1)\n",
    "model.fit(train, targets)"
   ]
  },
  {
   "cell_type": "code",
   "execution_count": null,
   "metadata": {},
   "outputs": [],
   "source": [
    "pred = xgb.predict(test)\n"
   ]
  },
  {
   "cell_type": "code",
   "execution_count": null,
   "metadata": {},
   "outputs": [],
   "source": [
    "submission_file = pd.read_csv(\"sample_submission (2).csv\")\n",
    "submission_file['Class'] = pred\n",
    "submission_file.to_csv('submission.csv', index=False)"
   ]
  },
  {
   "cell_type": "code",
   "execution_count": null,
   "metadata": {},
   "outputs": [],
   "source": [
    "submission_file"
   ]
  },
  {
   "cell_type": "code",
   "execution_count": null,
   "metadata": {},
   "outputs": [],
   "source": [
    "submission_file['Class'].value_counts()"
   ]
  },
  {
   "cell_type": "code",
   "execution_count": null,
   "metadata": {},
   "outputs": [],
   "source": []
  }
 ],
 "metadata": {
  "kernelspec": {
   "display_name": "Python 3",
   "language": "python",
   "name": "python3"
  }
 },
 "nbformat": 4,
 "nbformat_minor": 4
}
